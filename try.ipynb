{
 "cells": [
  {
   "cell_type": "code",
   "execution_count": 1,
   "metadata": {},
   "outputs": [],
   "source": [
    "import requests\n",
    "import csv\n",
    "\n",
    "# Enter your News API key\n",
    "api_key = \"d5e3da244db34daca7ac98b14139eb33\"\n",
    "\n",
    "# Enter the search query\n",
    "query = \"apple\"\n",
    "\n",
    "# Set the API endpoint\n",
    "url = \"https://newsapi.org/v2/everything\"\n",
    "\n",
    "params = {\n",
    "    \"q\": \"apple\",\n",
    "    \"pageSize\": 10,\n",
    "    \"apiKey\": \"d5e3da244db34daca7ac98b14139eb33\"  #d5e3da244db34daca7ac98b14139eb33\n",
    "}\n",
    "\n",
    "# Send a GET request to the API endpoint\n",
    "response = requests.get(url,params=params)\n",
    "\n",
    "# Parse the JSON data from the response\n",
    "data = response.json()\n",
    "\n",
    "# Extract the articles from the data\n",
    "articles = data['articles']\n",
    "\n",
    "# Open a new CSV file to write the data to\n",
    "with open('news_data.csv', mode='w', newline='') as file:\n",
    "\n",
    "    # Create a writer object\n",
    "    writer = csv.writer(file)\n",
    "\n",
    "    # Write the header row\n",
    "    writer.writerow(['Title', 'Description', 'Source', 'URL', 'Published At'])\n",
    "\n",
    "    # Loop through each article\n",
    "    for article in articles:\n",
    "\n",
    "        # Extract the article details\n",
    "        title = article['title']\n",
    "        description = article['description']\n",
    "        source = article['source']['name']\n",
    "        url = article['url']\n",
    "        published_at = article['publishedAt']\n",
    "\n",
    "        # Write the data to the CSV file\n",
    "        writer.writerow([title, description, source, url, published_at])\n"
   ]
  }
 ],
 "metadata": {
  "kernelspec": {
   "display_name": "Python 3",
   "language": "python",
   "name": "python3"
  },
  "language_info": {
   "codemirror_mode": {
    "name": "ipython",
    "version": 3
   },
   "file_extension": ".py",
   "mimetype": "text/x-python",
   "name": "python",
   "nbconvert_exporter": "python",
   "pygments_lexer": "ipython3",
   "version": "3.10.6"
  },
  "orig_nbformat": 4
 },
 "nbformat": 4,
 "nbformat_minor": 2
}
